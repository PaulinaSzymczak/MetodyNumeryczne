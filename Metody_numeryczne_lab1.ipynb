{
 "cells": [
  {
   "cell_type": "code",
   "execution_count": 1,
   "metadata": {},
   "outputs": [
    {
     "name": "stdout",
     "output_type": "stream",
     "text": [
      "X->Y: (56, 6386)\n",
      "X->Y: (57, 6614)\n",
      "X->Y: (58, 6846)\n",
      "X->Y: (59, 7082)\n",
      "X->Y: (60, 7322)\n",
      "X->Y: (61, 7566)\n",
      "X->Y: (62, 7814)\n",
      "X->Y: (63, 8066)\n",
      "X->Y: (64, 8322)\n",
      "X->Y: (65, 8582)\n",
      "X->Y: (66, 8846)\n",
      "X->Y: (67, 9114)\n",
      "X->Y: (68, 9386)\n",
      "X->Y: (69, 9662)\n",
      "X->Y: (70, 9942)\n",
      "X->Y: (71, 10226)\n",
      "X->Y: (72, 10514)\n",
      "X->Y: (73, 10806)\n",
      "X->Y: (74, 11102)\n",
      "X->Y: (75, 11402)\n",
      "X->Y: (76, 11706)\n",
      "X->Y: (77, 12014)\n",
      "X->Y: (78, 12326)\n",
      "X->Y: (79, 12642)\n",
      "X->Y: (80, 12962)\n",
      "X->Y: (81, 13286)\n",
      "X->Y: (82, 13614)\n",
      "X->Y: (83, 13946)\n",
      "X->Y: (84, 14282)\n",
      "X->Y: (85, 14622)\n",
      "X->Y: (86, 14966)\n",
      "X->Y: (87, 15314)\n",
      "X->Y: (88, 15666)\n",
      "X->Y: (89, 16022)\n",
      "X->Y: (90, 16382)\n",
      "X->Y: (91, 16746)\n",
      "X->Y: (92, 17114)\n",
      "X->Y: (93, 17486)\n",
      "X->Y: (94, 17862)\n",
      "X->Y: (95, 18242)\n",
      "X->Y: (96, 18626)\n",
      "X->Y: (97, 19014)\n",
      "X->Y: (98, 19406)\n",
      "X->Y: (99, 19802)\n",
      "X->Y: (100, 20202)\n"
     ]
    }
   ],
   "source": [
    "#1\n",
    "def y(x):\n",
    "    return 2*x**2 + 2*x + 2\n",
    "    \n",
    "for i in range(56, 101):\n",
    "    print(f\"X->Y: {i, y(i)}\")"
   ]
  },
  {
   "cell_type": "code",
   "execution_count": null,
   "metadata": {},
   "outputs": [
    {
     "name": "stdout",
     "output_type": "stream",
     "text": [
      "Podaj liczbę: 12\n",
      "Number:  12 Factorial:  479001600\n"
     ]
    }
   ],
   "source": [
    "#2\n",
    "\n",
    "#Biblioteka\n",
    "#import math\n",
    "#n=int(input(\"Podaj liczbę: \"))\n",
    "\n",
    "#print(\"Factorial: \", math.factorial(n))\n",
    "\n",
    "\n",
    "n=int(input(\"Podaj liczbę: \"))\n",
    "\n",
    "factorial=1\n",
    "if n<0:\n",
    "    print(\"Nie można policzyć silni z liczby ujemnej\")\n",
    "    \n",
    "else:\n",
    "    for i in range (1,n+1):\n",
    "        factorial=factorial*i\n",
    "    print(\"Number: \",n, \"Factorial: \", factorial)"
   ]
  },
  {
   "cell_type": "code",
   "execution_count": 13,
   "metadata": {},
   "outputs": [
    {
     "name": "stdout",
     "output_type": "stream",
     "text": [
      "Podaj ilość liczb: 4\n",
      "Podaj liczbę: 1\n",
      "Podaj liczbę: 2\n",
      "Podaj liczbę: 3\n",
      "Podaj liczbę: 1\n",
      "[1, 2, 3, 1]\n",
      "Najmniejsza wartość:  1\n",
      "[0]\n",
      "[0]\n",
      "[0, 3]\n"
     ]
    }
   ],
   "source": [
    "#3\n",
    "x=[]\n",
    "\n",
    "N=int(input(\"Podaj ilość liczb: \"))\n",
    "\n",
    "for i in range(1, N+1):\n",
    "    x.append(int(input(\"Podaj liczbę: \")))\n",
    "print(x)\n",
    "    \n",
    "print(\"Najmniejsza wartość: \", min(x))\n",
    "\n",
    "indexs=[x.index(min(x))]\n",
    "\n",
    "for i in range(1,N):\n",
    "    if x[i]==min(x):\n",
    "        indexs.append(i)\n",
    "        print(indexs)\n",
    "    else:\n",
    "        print(indexs)\n",
    "    \n"
   ]
  },
  {
   "cell_type": "code",
   "execution_count": 5,
   "metadata": {},
   "outputs": [
    {
     "name": "stdout",
     "output_type": "stream",
     "text": [
      "Podaj zakres wykresu: 4\n"
     ]
    },
    {
     "data": {
      "image/png": "[encoded data removed]",
      "text/plain": [
       "<matplotlib.figure.Figure at 0x2728d641080>"
      ]
     },
     "metadata": {},
     "output_type": "display_data"
    }
   ],
   "source": [
    "#4\n",
    "import numpy as np\n",
    "import matplotlib.pyplot as plt\n",
    "from numpy.random import *\n",
    "\n",
    "N=int(input(\"Podaj zakres wykresu: \"))/2\n",
    "\n",
    "x=np.linspace(-N,N,200)\n",
    "y=x**3+12\n",
    "\n",
    "plt.plot(x,y)\n",
    "plt.show()"
   ]
  },
  {
   "cell_type": "code",
   "execution_count": null,
   "metadata": {
    "collapsed": true
   },
   "outputs": [],
   "source": []
  },
  {
   "cell_type": "code",
   "execution_count": null,
   "metadata": {
    "collapsed": true
   },
   "outputs": [],
   "source": [
    "\n"
   ]
  }
 ],
 "metadata": {
  "kernelspec": {
   "display_name": "Python 3",
   "language": "python",
   "name": "python3"
  },
  "language_info": {
   "codemirror_mode": {
    "name": "ipython",
    "version": 3
   },
   "file_extension": ".py",
   "mimetype": "text/x-python",
   "name": "python",
   "nbconvert_exporter": "python",
   "pygments_lexer": "ipython3",
   "version": "3.6.2"
  }
 },
 "nbformat": 4,
 "nbformat_minor": 2
}
